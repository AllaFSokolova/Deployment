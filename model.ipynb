{
 "cells": [
  {
   "cell_type": "code",
   "execution_count": 2,
   "id": "63cb859a-490a-4344-abd1-98a5ff4da0ad",
   "metadata": {},
   "outputs": [
    {
     "name": "stdout",
     "output_type": "stream",
     "text": [
      "Accuracy Validation: 84.1%\n",
      "Accuracy Test: 82.79%\n"
     ]
    },
    {
     "data": {
      "text/plain": [
       "['aussie_rain_pipeline.joblib']"
      ]
     },
     "execution_count": 2,
     "metadata": {},
     "output_type": "execute_result"
    }
   ],
   "source": [
    "import pandas as pd\n",
    "import numpy as np\n",
    "from sklearn.impute import SimpleImputer\n",
    "from sklearn.preprocessing import MinMaxScaler, OneHotEncoder\n",
    "from sklearn.compose import ColumnTransformer\n",
    "from sklearn.pipeline import Pipeline\n",
    "from sklearn.model_selection import train_test_split\n",
    "from sklearn.ensemble import RandomForestClassifier\n",
    "from sklearn.metrics import accuracy_score, confusion_matrix\n",
    "import matplotlib.pyplot as plt\n",
    "import seaborn as sns\n",
    "import joblib\n",
    "\n",
    "# Load and preprocess data\n",
    "raw_df = pd.read_csv('weatherAUS.csv')\n",
    "raw_df.dropna(subset=['RainToday', 'RainTomorrow'], inplace=True)\n",
    "\n",
    "# Create training, validation, and test sets\n",
    "year = pd.to_datetime(raw_df.Date).dt.year\n",
    "train_df, val_df, test_df = raw_df[year < 2015], raw_df[year == 2015], raw_df[year > 2015]\n",
    "\n",
    "# Create inputs and targets\n",
    "input_cols = list(train_df.columns)[1:-1]\n",
    "target_col = 'RainTomorrow'\n",
    "train_inputs, train_targets = train_df[input_cols], train_df[target_col]\n",
    "val_inputs, val_targets = val_df[input_cols], val_df[target_col]\n",
    "test_inputs, test_targets = test_df[input_cols], test_df[target_col]\n",
    "\n",
    "# Identify numeric and categorical columns\n",
    "numeric_cols = train_inputs.select_dtypes(include=np.number).columns.tolist()[:-1]\n",
    "categorical_cols = train_inputs.select_dtypes(include='object').columns.tolist()\n",
    "\n",
    "# Create preprocessing pipelines for both numeric and categorical data\n",
    "numeric_transformer = Pipeline(steps=[\n",
    "    ('imputer', SimpleImputer(strategy='mean')),\n",
    "    ('scaler', MinMaxScaler())\n",
    "])\n",
    "\n",
    "categorical_transformer = Pipeline(steps=[\n",
    "    ('imputer', SimpleImputer(strategy='constant', fill_value='missing')),\n",
    "    ('onehot', OneHotEncoder(sparse_output=False, handle_unknown='ignore'))\n",
    "])\n",
    "\n",
    "# Combine transformers into a preprocessor\n",
    "preprocessor = ColumnTransformer(\n",
    "    transformers=[\n",
    "        ('num', numeric_transformer, numeric_cols),\n",
    "        ('cat', categorical_transformer, categorical_cols)\n",
    "    ])\n",
    "\n",
    "# Create a pipeline that includes preprocessing and the model\n",
    "model_pipeline = Pipeline(steps=[\n",
    "    ('preprocessor', preprocessor),\n",
    "    ('classifier', RandomForestClassifier(n_estimators=100, max_depth=8, random_state=42))\n",
    "])\n",
    "\n",
    "# Train the model\n",
    "model_pipeline.fit(train_inputs, train_targets)\n",
    "\n",
    "# Helper function to predict, compute accuracy & plot confusion matrix\n",
    "def predict_and_plot(inputs, targets, name=''):\n",
    "    preds = model_pipeline.predict(inputs)\n",
    "    accuracy = accuracy_score(targets, preds)\n",
    "    print(f\"Accuracy {name}: {round(accuracy * 100,2)}%\")\n",
    "    return preds\n",
    "\n",
    "# Evaluate on validation and test set\n",
    "val_preds = predict_and_plot(val_inputs, val_targets, 'Validation')\n",
    "test_preds = predict_and_plot(test_inputs, test_targets, 'Test')\n",
    "\n",
    "# Save the trained model\n",
    "joblib.dump(model_pipeline, 'aussie_rain_pipeline.joblib')"
   ]
  },
  {
   "cell_type": "code",
   "execution_count": null,
   "id": "aae65208-c66b-4bee-8c52-472711ae4fa3",
   "metadata": {},
   "outputs": [],
   "source": []
  }
 ],
 "metadata": {
  "kernelspec": {
   "display_name": "Python 3 (ipykernel)",
   "language": "python",
   "name": "python3"
  },
  "language_info": {
   "codemirror_mode": {
    "name": "ipython",
    "version": 3
   },
   "file_extension": ".py",
   "mimetype": "text/x-python",
   "name": "python",
   "nbconvert_exporter": "python",
   "pygments_lexer": "ipython3",
   "version": "3.12.4"
  }
 },
 "nbformat": 4,
 "nbformat_minor": 5
}
